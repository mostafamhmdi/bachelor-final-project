{
 "cells": [
  {
   "cell_type": "code",
   "execution_count": 1,
   "metadata": {},
   "outputs": [],
   "source": [
    "import pandas as pd"
   ]
  },
  {
   "cell_type": "code",
   "execution_count": 9,
   "metadata": {},
   "outputs": [
    {
     "data": {
      "text/html": [
       "<div>\n",
       "<style scoped>\n",
       "    .dataframe tbody tr th:only-of-type {\n",
       "        vertical-align: middle;\n",
       "    }\n",
       "\n",
       "    .dataframe tbody tr th {\n",
       "        vertical-align: top;\n",
       "    }\n",
       "\n",
       "    .dataframe thead th {\n",
       "        text-align: right;\n",
       "    }\n",
       "</style>\n",
       "<table border=\"1\" class=\"dataframe\">\n",
       "  <thead>\n",
       "    <tr style=\"text-align: right;\">\n",
       "      <th></th>\n",
       "      <th>url</th>\n",
       "      <th>cabinet</th>\n",
       "    </tr>\n",
       "  </thead>\n",
       "  <tbody>\n",
       "    <tr>\n",
       "      <th>0</th>\n",
       "      <td>https://www.melkeirani.com/home/mHJe3894/22866...</td>\n",
       "      <td>ام دی اف</td>\n",
       "    </tr>\n",
       "    <tr>\n",
       "      <th>1</th>\n",
       "      <td>https://www.melkeirani.com/home/DDPSccde/22849...</td>\n",
       "      <td>ام دی اف</td>\n",
       "    </tr>\n",
       "    <tr>\n",
       "      <th>2</th>\n",
       "      <td>https://www.melkeirani.com/home/BWZWc17e/22865...</td>\n",
       "      <td>ام دی اف</td>\n",
       "    </tr>\n",
       "    <tr>\n",
       "      <th>3</th>\n",
       "      <td>https://www.melkeirani.com/home/cEpq67c3/22857...</td>\n",
       "      <td>چوب</td>\n",
       "    </tr>\n",
       "    <tr>\n",
       "      <th>4</th>\n",
       "      <td>https://www.melkeirani.com/home/txkO17de/22855...</td>\n",
       "      <td>چوب</td>\n",
       "    </tr>\n",
       "  </tbody>\n",
       "</table>\n",
       "</div>"
      ],
      "text/plain": [
       "                                                 url   cabinet\n",
       "0  https://www.melkeirani.com/home/mHJe3894/22866...  ام دی اف\n",
       "1  https://www.melkeirani.com/home/DDPSccde/22849...  ام دی اف\n",
       "2  https://www.melkeirani.com/home/BWZWc17e/22865...  ام دی اف\n",
       "3  https://www.melkeirani.com/home/cEpq67c3/22857...       چوب\n",
       "4  https://www.melkeirani.com/home/txkO17de/22855...       چوب"
      ]
     },
     "execution_count": 9,
     "metadata": {},
     "output_type": "execute_result"
    }
   ],
   "source": [
    "df=pd.read_csv(r'../cabinet4.csv')\n",
    "df.head()"
   ]
  },
  {
   "cell_type": "code",
   "execution_count": 10,
   "metadata": {},
   "outputs": [
    {
     "data": {
      "text/plain": [
       "url            0\n",
       "cabinet    19533\n",
       "dtype: int64"
      ]
     },
     "execution_count": 10,
     "metadata": {},
     "output_type": "execute_result"
    }
   ],
   "source": [
    "df.isna().sum()"
   ]
  },
  {
   "cell_type": "code",
   "execution_count": 13,
   "metadata": {},
   "outputs": [],
   "source": [
    "df.fillna('N/A',inplace=True)"
   ]
  },
  {
   "cell_type": "code",
   "execution_count": 14,
   "metadata": {},
   "outputs": [
    {
     "data": {
      "text/plain": [
       "url        0\n",
       "cabinet    0\n",
       "dtype: int64"
      ]
     },
     "execution_count": 14,
     "metadata": {},
     "output_type": "execute_result"
    }
   ],
   "source": [
    "df.isna().sum()"
   ]
  },
  {
   "cell_type": "code",
   "execution_count": 7,
   "metadata": {},
   "outputs": [
    {
     "data": {
      "text/html": [
       "<div>\n",
       "<style scoped>\n",
       "    .dataframe tbody tr th:only-of-type {\n",
       "        vertical-align: middle;\n",
       "    }\n",
       "\n",
       "    .dataframe tbody tr th {\n",
       "        vertical-align: top;\n",
       "    }\n",
       "\n",
       "    .dataframe thead th {\n",
       "        text-align: right;\n",
       "    }\n",
       "</style>\n",
       "<table border=\"1\" class=\"dataframe\">\n",
       "  <thead>\n",
       "    <tr style=\"text-align: right;\">\n",
       "      <th></th>\n",
       "      <th>url</th>\n",
       "      <th>cabinet</th>\n",
       "    </tr>\n",
       "  </thead>\n",
       "  <tbody>\n",
       "    <tr>\n",
       "      <th>64000</th>\n",
       "      <td>https://www.melkeirani.com/home/XuMf8df7/29652...</td>\n",
       "      <td>ام دی اف</td>\n",
       "    </tr>\n",
       "    <tr>\n",
       "      <th>64001</th>\n",
       "      <td>https://www.melkeirani.com/home/AfmJ1091/29656...</td>\n",
       "      <td>-</td>\n",
       "    </tr>\n",
       "    <tr>\n",
       "      <th>64002</th>\n",
       "      <td>https://www.melkeirani.com/home/lmiwdb68/29736...</td>\n",
       "      <td>ام دی اف</td>\n",
       "    </tr>\n",
       "    <tr>\n",
       "      <th>64003</th>\n",
       "      <td>https://www.melkeirani.com/home/gaFi4aec/80526...</td>\n",
       "      <td>-</td>\n",
       "    </tr>\n",
       "    <tr>\n",
       "      <th>64004</th>\n",
       "      <td>https://www.melkeirani.com/home/oKxJa997/29658...</td>\n",
       "      <td>ام دی اف</td>\n",
       "    </tr>\n",
       "    <tr>\n",
       "      <th>...</th>\n",
       "      <td>...</td>\n",
       "      <td>...</td>\n",
       "    </tr>\n",
       "    <tr>\n",
       "      <th>64152</th>\n",
       "      <td>https://www.melkeirani.com/home/aJJYc88d/29657...</td>\n",
       "      <td>ام دی اف</td>\n",
       "    </tr>\n",
       "    <tr>\n",
       "      <th>64153</th>\n",
       "      <td>https://www.melkeirani.com/home/oCrkb2d8/29700...</td>\n",
       "      <td>ام دی اف</td>\n",
       "    </tr>\n",
       "    <tr>\n",
       "      <th>64154</th>\n",
       "      <td>https://www.melkeirani.com/home/QsZX6c10/29656...</td>\n",
       "      <td>ام دی اف</td>\n",
       "    </tr>\n",
       "    <tr>\n",
       "      <th>64155</th>\n",
       "      <td>https://www.melkeirani.com/home/tKBlafe0/29752...</td>\n",
       "      <td>-</td>\n",
       "    </tr>\n",
       "    <tr>\n",
       "      <th>64156</th>\n",
       "      <td>https://www.melkeirani.com/home/pCbCa018/29693...</td>\n",
       "      <td>های گلاس</td>\n",
       "    </tr>\n",
       "  </tbody>\n",
       "</table>\n",
       "<p>157 rows × 2 columns</p>\n",
       "</div>"
      ],
      "text/plain": [
       "                                                     url   cabinet\n",
       "64000  https://www.melkeirani.com/home/XuMf8df7/29652...  ام دی اف\n",
       "64001  https://www.melkeirani.com/home/AfmJ1091/29656...         -\n",
       "64002  https://www.melkeirani.com/home/lmiwdb68/29736...  ام دی اف\n",
       "64003  https://www.melkeirani.com/home/gaFi4aec/80526...         -\n",
       "64004  https://www.melkeirani.com/home/oKxJa997/29658...  ام دی اف\n",
       "...                                                  ...       ...\n",
       "64152  https://www.melkeirani.com/home/aJJYc88d/29657...  ام دی اف\n",
       "64153  https://www.melkeirani.com/home/oCrkb2d8/29700...  ام دی اف\n",
       "64154  https://www.melkeirani.com/home/QsZX6c10/29656...  ام دی اف\n",
       "64155  https://www.melkeirani.com/home/tKBlafe0/29752...         -\n",
       "64156  https://www.melkeirani.com/home/pCbCa018/29693...  های گلاس\n",
       "\n",
       "[157 rows x 2 columns]"
      ]
     },
     "execution_count": 7,
     "metadata": {},
     "output_type": "execute_result"
    }
   ],
   "source": [
    "df[64000:640040]"
   ]
  },
  {
   "cell_type": "code",
   "execution_count": 11,
   "metadata": {},
   "outputs": [
    {
     "data": {
      "text/plain": [
       "(97381, 2)"
      ]
     },
     "execution_count": 11,
     "metadata": {},
     "output_type": "execute_result"
    }
   ],
   "source": [
    "df.shape"
   ]
  },
  {
   "cell_type": "code",
   "execution_count": 18,
   "metadata": {},
   "outputs": [
    {
     "data": {
      "text/html": [
       "<div>\n",
       "<style scoped>\n",
       "    .dataframe tbody tr th:only-of-type {\n",
       "        vertical-align: middle;\n",
       "    }\n",
       "\n",
       "    .dataframe tbody tr th {\n",
       "        vertical-align: top;\n",
       "    }\n",
       "\n",
       "    .dataframe thead th {\n",
       "        text-align: right;\n",
       "    }\n",
       "</style>\n",
       "<table border=\"1\" class=\"dataframe\">\n",
       "  <thead>\n",
       "    <tr style=\"text-align: right;\">\n",
       "      <th></th>\n",
       "      <th>url</th>\n",
       "      <th>cabinet</th>\n",
       "    </tr>\n",
       "  </thead>\n",
       "  <tbody>\n",
       "    <tr>\n",
       "      <th>64000</th>\n",
       "      <td>https://www.melkeirani.com/home/XuMf8df7/29652...</td>\n",
       "      <td>ام دی اف</td>\n",
       "    </tr>\n",
       "    <tr>\n",
       "      <th>64001</th>\n",
       "      <td>https://www.melkeirani.com/home/AfmJ1091/29656...</td>\n",
       "      <td>-</td>\n",
       "    </tr>\n",
       "    <tr>\n",
       "      <th>64002</th>\n",
       "      <td>https://www.melkeirani.com/home/lmiwdb68/29736...</td>\n",
       "      <td>ام دی اف</td>\n",
       "    </tr>\n",
       "    <tr>\n",
       "      <th>64003</th>\n",
       "      <td>https://www.melkeirani.com/home/gaFi4aec/80526...</td>\n",
       "      <td>-</td>\n",
       "    </tr>\n",
       "    <tr>\n",
       "      <th>64004</th>\n",
       "      <td>https://www.melkeirani.com/home/oKxJa997/29658...</td>\n",
       "      <td>ام دی اف</td>\n",
       "    </tr>\n",
       "    <tr>\n",
       "      <th>...</th>\n",
       "      <td>...</td>\n",
       "      <td>...</td>\n",
       "    </tr>\n",
       "    <tr>\n",
       "      <th>97376</th>\n",
       "      <td>https://www.melkeirani.com/home/SKyd27fb/31701...</td>\n",
       "      <td>ام دی اف</td>\n",
       "    </tr>\n",
       "    <tr>\n",
       "      <th>97377</th>\n",
       "      <td>https://www.melkeirani.com/home/AZ9K3HOw/21434...</td>\n",
       "      <td>N/A</td>\n",
       "    </tr>\n",
       "    <tr>\n",
       "      <th>97378</th>\n",
       "      <td>https://www.melkeirani.com/home/EJyCa1e9/31705...</td>\n",
       "      <td>ام دی اف</td>\n",
       "    </tr>\n",
       "    <tr>\n",
       "      <th>97379</th>\n",
       "      <td>https://www.melkeirani.com/home/AZkn_EUl/21446...</td>\n",
       "      <td>N/A</td>\n",
       "    </tr>\n",
       "    <tr>\n",
       "      <th>97380</th>\n",
       "      <td>https://www.melkeirani.com/home/MUYza861/31693...</td>\n",
       "      <td>-</td>\n",
       "    </tr>\n",
       "  </tbody>\n",
       "</table>\n",
       "<p>33381 rows × 2 columns</p>\n",
       "</div>"
      ],
      "text/plain": [
       "                                                     url   cabinet\n",
       "64000  https://www.melkeirani.com/home/XuMf8df7/29652...  ام دی اف\n",
       "64001  https://www.melkeirani.com/home/AfmJ1091/29656...         -\n",
       "64002  https://www.melkeirani.com/home/lmiwdb68/29736...  ام دی اف\n",
       "64003  https://www.melkeirani.com/home/gaFi4aec/80526...         -\n",
       "64004  https://www.melkeirani.com/home/oKxJa997/29658...  ام دی اف\n",
       "...                                                  ...       ...\n",
       "97376  https://www.melkeirani.com/home/SKyd27fb/31701...  ام دی اف\n",
       "97377  https://www.melkeirani.com/home/AZ9K3HOw/21434...       N/A\n",
       "97378  https://www.melkeirani.com/home/EJyCa1e9/31705...  ام دی اف\n",
       "97379  https://www.melkeirani.com/home/AZkn_EUl/21446...       N/A\n",
       "97380  https://www.melkeirani.com/home/MUYza861/31693...         -\n",
       "\n",
       "[33381 rows x 2 columns]"
      ]
     },
     "execution_count": 18,
     "metadata": {},
     "output_type": "execute_result"
    }
   ],
   "source": [
    "df[64000:640040]"
   ]
  },
  {
   "cell_type": "code",
   "execution_count": 17,
   "metadata": {},
   "outputs": [
    {
     "data": {
      "text/plain": [
       "'https://www.melkeirani.com/home/mHJe3894/228668/%D9%81%D8%B1%D9%88%D8%B4-%D8%A2%D9%BE%D8%A7%D8%B1%D8%AA%D9%85%D8%A7%D9%86-%D9%85%D8%B4%D9%87%D8%AF-%D9%87%D9%86%D8%B1%D9%88%D8%B1-20.html'"
      ]
     },
     "execution_count": 17,
     "metadata": {},
     "output_type": "execute_result"
    }
   ],
   "source": [
    "df['url'][0]"
   ]
  },
  {
   "cell_type": "code",
   "execution_count": null,
   "metadata": {},
   "outputs": [],
   "source": []
  }
 ],
 "metadata": {
  "kernelspec": {
   "display_name": "Python 3",
   "language": "python",
   "name": "python3"
  },
  "language_info": {
   "codemirror_mode": {
    "name": "ipython",
    "version": 3
   },
   "file_extension": ".py",
   "mimetype": "text/x-python",
   "name": "python",
   "nbconvert_exporter": "python",
   "pygments_lexer": "ipython3",
   "version": "3.11.8"
  }
 },
 "nbformat": 4,
 "nbformat_minor": 2
}
