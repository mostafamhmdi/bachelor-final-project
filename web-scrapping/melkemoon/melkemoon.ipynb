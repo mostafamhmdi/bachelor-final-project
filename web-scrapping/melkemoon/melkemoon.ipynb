{
 "cells": [
  {
   "cell_type": "code",
   "execution_count": 1,
   "metadata": {},
   "outputs": [],
   "source": [
    "from selenium import webdriver\n",
    "from selenium.webdriver.common.by import By\n",
    "from selenium.webdriver.common.keys import Keys\n",
    "import time"
   ]
  },
  {
   "cell_type": "code",
   "execution_count": 2,
   "metadata": {},
   "outputs": [],
   "source": [
    "driver = webdriver.Chrome()\n",
    "driver.maximize_window()"
   ]
  },
  {
   "cell_type": "code",
   "execution_count": 3,
   "metadata": {},
   "outputs": [],
   "source": [
    "driver.get('https://www.melkeirani.com/')"
   ]
  },
  {
   "cell_type": "code",
   "execution_count": 4,
   "metadata": {},
   "outputs": [],
   "source": [
    "from_date = driver.find_element(By.ID, 'tar1')\n",
    "to_date = driver.find_element(By.ID, 'tar2')"
   ]
  },
  {
   "cell_type": "code",
   "execution_count": 5,
   "metadata": {},
   "outputs": [],
   "source": [
    "from_date.send_keys('1400/11/09')  # Enter the start date\n",
    "to_date.send_keys('1400/11/10')\n"
   ]
  },
  {
   "cell_type": "code",
   "execution_count": 6,
   "metadata": {},
   "outputs": [],
   "source": [
    "show_button = driver.find_element(By.ID, 'searchbut')\n",
    "show_button.click()"
   ]
  },
  {
   "cell_type": "code",
   "execution_count": 7,
   "metadata": {},
   "outputs": [
    {
     "name": "stdout",
     "output_type": "stream",
     "text": [
      "24\n",
      "https://www.melkeirani.com/home/MdEe2141/228783/%D9%BE%DB%8C%D8%B4-%D9%81%D8%B1%D9%88%D8%B4-%D8%A2%D9%BE%D8%A7%D8%B1%D8%AA%D9%85%D8%A7%D9%86-%D9%85%D8%B4%D9%87%D8%AF-%D9%86%D8%A8%D8%B4-%D9%86%D9%82%D9%88%DB%8C%D9%87-28.html\n",
      "https://www.melkeirani.com/home/OQsZa59c/228873/%D9%81%D8%B1%D9%88%D8%B4-%D8%AF%D9%81%D8%AA%D8%B1%DA%A9%D8%A7%D8%B1-%D9%85%D8%B4%D9%87%D8%AF-%D8%A8%D9%84%D9%88%D8%A7%D8%B1-%D8%AC%D8%A7%D9%86%D8%A8%D8%A7%D8%B2-.html\n",
      "https://www.melkeirani.com/home/XplA0758/228708/%D9%81%D8%B1%D9%88%D8%B4-%D8%A2%D9%BE%D8%A7%D8%B1%D8%AA%D9%85%D8%A7%D9%86-%D9%85%D8%B4%D9%87%D8%AF-%D8%A7%DB%8C%D8%AB%D8%A7%D8%B1%DA%AF%D8%B1%D8%A7%D9%86-21.html\n",
      "https://www.melkeirani.com/home/amCG9071/228709/%D9%81%D8%B1%D9%88%D8%B4-%D8%A2%D9%BE%D8%A7%D8%B1%D8%AA%D9%85%D8%A7%D9%86-%D9%85%D8%B4%D9%87%D8%AF-%D9%81%D9%84%D8%A7%D8%AD%DB%8C-2-.html\n",
      "https://www.melkeirani.com/home/sYgl49d6/228710/%D9%81%D8%B1%D9%88%D8%B4-%D8%A2%D9%BE%D8%A7%D8%B1%D8%AA%D9%85%D8%A7%D9%86-%D9%85%D8%B4%D9%87%D8%AF-%DB%8C%D9%88%D8%B3%D9%81%DB%8C%D9%87-5-.html\n",
      "https://www.melkeirani.com/home/JBKl11b1/228712/%D9%81%D8%B1%D9%88%D8%B4-%D8%A2%D9%BE%D8%A7%D8%B1%D8%AA%D9%85%D8%A7%D9%86-%D9%85%D8%B4%D9%87%D8%AF-%D8%A7%D8%B1%D9%85%D8%BA%D8%A7%D9%86-8-.html\n",
      "https://www.melkeirani.com/home/miwi0258/228713/%D9%81%D8%B1%D9%88%D8%B4-%D8%A2%D9%BE%D8%A7%D8%B1%D8%AA%D9%85%D8%A7%D9%86-%D9%85%D8%B4%D9%87%D8%AF-%D8%B3%D8%B1%D8%A7%D9%81%D8%B1%D8%A7%D8%B2%D8%A7%D9%86-49.html\n",
      "https://www.melkeirani.com/home/PFJz3665/228714/%D9%81%D8%B1%D9%88%D8%B4-%D8%A2%D9%BE%D8%A7%D8%B1%D8%AA%D9%85%D8%A7%D9%86-%D9%85%D8%B4%D9%87%D8%AF-%D8%A8%DB%8C%D9%86-%D8%A2%D9%85%D9%88%D8%B2%DA%AF%D8%A7%D8%B1-67-%D9%88-69.html\n",
      "https://www.melkeirani.com/home/JIhp5e0f/228715/%D9%81%D8%B1%D9%88%D8%B4-%D8%A2%D9%BE%D8%A7%D8%B1%D8%AA%D9%85%D8%A7%D9%86-%D9%85%D8%B4%D9%87%D8%AF-%DB%8C%D9%88%D8%B3%D9%81%DB%8C%D9%87-9-9.html\n",
      "https://www.melkeirani.com/home/PhlKafc1/228716/%D9%81%D8%B1%D9%88%D8%B4-%D8%A2%D9%BE%D8%A7%D8%B1%D8%AA%D9%85%D8%A7%D9%86-%D9%85%D8%B4%D9%87%D8%AF-%D8%B4%D8%A7%D9%87%D8%AF-83.html\n",
      "https://www.melkeirani.com/home/kVVlf0bd/228717/%D9%81%D8%B1%D9%88%D8%B4-%D8%A2%D9%BE%D8%A7%D8%B1%D8%AA%D9%85%D8%A7%D9%86-%D9%85%D8%B4%D9%87%D8%AF-%D9%86%D8%A8%D8%B4-%D9%86%D8%A7%D9%85%D8%AC%D9%88-11.html\n",
      "https://www.melkeirani.com/home/ImAfda23/228718/%D9%81%D8%B1%D9%88%D8%B4-%D8%A2%D9%BE%D8%A7%D8%B1%D8%AA%D9%85%D8%A7%D9%86-%D9%85%D8%B4%D9%87%D8%AF-%D8%B9%D8%A8%D8%AF%D8%A7%D9%84%D9%85%D8%B7%D9%84%D8%A8-39-.html\n",
      "https://www.melkeirani.com/home/QZpM64bd/228719/%D9%81%D8%B1%D9%88%D8%B4-%D8%A2%D9%BE%D8%A7%D8%B1%D8%AA%D9%85%D8%A7%D9%86-%D9%85%D8%B4%D9%87%D8%AF-%D8%AD%D8%AC%D8%A7%D8%A8-54.html\n",
      "https://www.melkeirani.com/home/UYzU5385/228720/%D9%81%D8%B1%D9%88%D8%B4-%D8%A2%D9%BE%D8%A7%D8%B1%D8%AA%D9%85%D8%A7%D9%86-%D9%85%D8%B4%D9%87%D8%AF-%D8%A8%D9%88%D8%B3%D8%AA%D8%A7%D9%86-29-5.html\n",
      "https://www.melkeirani.com/home/tktaecb4/228721/%D9%81%D8%B1%D9%88%D8%B4-%D8%A2%D9%BE%D8%A7%D8%B1%D8%AA%D9%85%D8%A7%D9%86-%D9%85%D8%B4%D9%87%D8%AF-%D8%AF%D8%A7%D9%86%D8%B4%D8%AC%D9%88-8-.html\n",
      "https://www.melkeirani.com/home/nSKyee7e/228722/%D9%81%D8%B1%D9%88%D8%B4-%D8%A2%D9%BE%D8%A7%D8%B1%D8%AA%D9%85%D8%A7%D9%86-%D9%85%D8%B4%D9%87%D8%AF-%D8%B2%DB%8C%D8%AA%D9%88%D9%86-11.html\n",
      "https://www.melkeirani.com/home/xyCEeb41/228723/%D9%81%D8%B1%D9%88%D8%B4-%D8%A2%D9%BE%D8%A7%D8%B1%D8%AA%D9%85%D8%A7%D9%86-%D9%85%D8%B4%D9%87%D8%AF-%D9%86%D9%85%D8%A7%D8%B2-27-.html\n",
      "https://www.melkeirani.com/home/JyCz05cd/228724/%D9%81%D8%B1%D9%88%D8%B4-%D8%A2%D9%BE%D8%A7%D8%B1%D8%AA%D9%85%D8%A7%D9%86-%D9%85%D8%B4%D9%87%D8%AF-%DA%AF%D9%84%D8%A8%D9%87%D8%A7%D8%B1---%D9%85%D9%87%D8%B1%DA%AF%D8%A7%D9%86-1.html\n",
      "https://www.melkeirani.com/home/FYYs6df2/228725/%D9%81%D8%B1%D9%88%D8%B4-%D8%A2%D9%BE%D8%A7%D8%B1%D8%AA%D9%85%D8%A7%D9%86-%D9%85%D8%B4%D9%87%D8%AF-%D8%B5%DB%8C%D8%A7%D8%AF-46.html\n",
      "https://www.melkeirani.com/home/kICh2126/228726/%D9%81%D8%B1%D9%88%D8%B4-%D8%A2%D9%BE%D8%A7%D8%B1%D8%AA%D9%85%D8%A7%D9%86-%D9%85%D8%B4%D9%87%D8%AF-%D9%85%D8%B9%D9%84%D9%85-16-.html\n",
      "https://www.melkeirani.com/home/qzvn8af7/228734/%D9%81%D8%B1%D9%88%D8%B4-%D8%A2%D9%BE%D8%A7%D8%B1%D8%AA%D9%85%D8%A7%D9%86-%D9%85%D8%B4%D9%87%D8%AF-%D8%A7%D9%82%D8%A8%D8%A7%D9%84-19.html\n",
      "https://www.melkeirani.com/home/rMpA9612/228735/%D9%81%D8%B1%D9%88%D8%B4-%D8%A2%D9%BE%D8%A7%D8%B1%D8%AA%D9%85%D8%A7%D9%86-%D9%85%D8%B4%D9%87%D8%AF-%D9%82%D8%A7%D9%86%D8%B9-9-.html\n",
      "https://www.melkeirani.com/home/dHec62ac/228736/%D9%81%D8%B1%D9%88%D8%B4-%D8%A2%D9%BE%D8%A7%D8%B1%D8%AA%D9%85%D8%A7%D9%86-%D9%85%D8%B4%D9%87%D8%AF-%D8%A2%D8%B2%D8%A7%D8%AF%D9%87---%D8%B1%D8%A7%D8%B3%D8%AA%D8%A7%D9%86-1-.html\n",
      "https://www.melkeirani.com/home/xVSw4bd4/228737/%D9%81%D8%B1%D9%88%D8%B4-%D8%A2%D9%BE%D8%A7%D8%B1%D8%AA%D9%85%D8%A7%D9%86-%D9%85%D8%B4%D9%87%D8%AF-%D9%85%D9%88%D8%B3%D9%88%DB%8C-%D9%82%D9%88%DA%86%D8%A7%D9%86%DB%8C-4.html\n"
     ]
    }
   ],
   "source": [
    "cards = driver.find_elements(By.CSS_SELECTOR, '.col-lg-4.col-xl-3.col-md-12.mb-4')\n",
    "print(len(cards))\n",
    "# Loop through each card and get the href from the <a> tag inside it\n",
    "for card in cards:\n",
    "    # Find the <a> tag inside each card\n",
    "    link_element = card.find_element(By.TAG_NAME, 'a')\n",
    "    \n",
    "    # Get the href attribute\n",
    "    href = link_element.get_attribute('href')\n",
    "    \n",
    "    # Print or store the href\n",
    "    print(href)"
   ]
  },
  {
   "cell_type": "code",
   "execution_count": 8,
   "metadata": {},
   "outputs": [],
   "source": [
    "from selenium.webdriver.common.action_chains import ActionChains\n",
    "        # Locate the \"Load More\" button\n",
    "load_more_button = driver.find_element(By.CLASS_NAME, 'loadmore')  # Adjust button text if necessary\n",
    "        \n",
    "        # Scroll into view if needed (sometimes load more button is off-screen)\n",
    "actions = ActionChains(driver)\n",
    "actions.move_to_element(load_more_button).perform()\n",
    "        \n",
    "        # Click the \"Load More\" button\n",
    "load_more_button.click()\n",
    "        \n",
    "        # Wait for new content to load (adjust the sleep time if needed)\n",
    "    \n",
    "        "
   ]
  },
  {
   "cell_type": "code",
   "execution_count": 9,
   "metadata": {},
   "outputs": [
    {
     "name": "stdout",
     "output_type": "stream",
     "text": [
      "48\n",
      "https://www.melkeirani.com/home/MdEe2141/228783/%D9%BE%DB%8C%D8%B4-%D9%81%D8%B1%D9%88%D8%B4-%D8%A2%D9%BE%D8%A7%D8%B1%D8%AA%D9%85%D8%A7%D9%86-%D9%85%D8%B4%D9%87%D8%AF-%D9%86%D8%A8%D8%B4-%D9%86%D9%82%D9%88%DB%8C%D9%87-28.html\n",
      "https://www.melkeirani.com/home/OQsZa59c/228873/%D9%81%D8%B1%D9%88%D8%B4-%D8%AF%D9%81%D8%AA%D8%B1%DA%A9%D8%A7%D8%B1-%D9%85%D8%B4%D9%87%D8%AF-%D8%A8%D9%84%D9%88%D8%A7%D8%B1-%D8%AC%D8%A7%D9%86%D8%A8%D8%A7%D8%B2-.html\n",
      "https://www.melkeirani.com/home/XplA0758/228708/%D9%81%D8%B1%D9%88%D8%B4-%D8%A2%D9%BE%D8%A7%D8%B1%D8%AA%D9%85%D8%A7%D9%86-%D9%85%D8%B4%D9%87%D8%AF-%D8%A7%DB%8C%D8%AB%D8%A7%D8%B1%DA%AF%D8%B1%D8%A7%D9%86-21.html\n",
      "https://www.melkeirani.com/home/amCG9071/228709/%D9%81%D8%B1%D9%88%D8%B4-%D8%A2%D9%BE%D8%A7%D8%B1%D8%AA%D9%85%D8%A7%D9%86-%D9%85%D8%B4%D9%87%D8%AF-%D9%81%D9%84%D8%A7%D8%AD%DB%8C-2-.html\n",
      "https://www.melkeirani.com/home/sYgl49d6/228710/%D9%81%D8%B1%D9%88%D8%B4-%D8%A2%D9%BE%D8%A7%D8%B1%D8%AA%D9%85%D8%A7%D9%86-%D9%85%D8%B4%D9%87%D8%AF-%DB%8C%D9%88%D8%B3%D9%81%DB%8C%D9%87-5-.html\n",
      "https://www.melkeirani.com/home/JBKl11b1/228712/%D9%81%D8%B1%D9%88%D8%B4-%D8%A2%D9%BE%D8%A7%D8%B1%D8%AA%D9%85%D8%A7%D9%86-%D9%85%D8%B4%D9%87%D8%AF-%D8%A7%D8%B1%D9%85%D8%BA%D8%A7%D9%86-8-.html\n",
      "https://www.melkeirani.com/home/miwi0258/228713/%D9%81%D8%B1%D9%88%D8%B4-%D8%A2%D9%BE%D8%A7%D8%B1%D8%AA%D9%85%D8%A7%D9%86-%D9%85%D8%B4%D9%87%D8%AF-%D8%B3%D8%B1%D8%A7%D9%81%D8%B1%D8%A7%D8%B2%D8%A7%D9%86-49.html\n",
      "https://www.melkeirani.com/home/PFJz3665/228714/%D9%81%D8%B1%D9%88%D8%B4-%D8%A2%D9%BE%D8%A7%D8%B1%D8%AA%D9%85%D8%A7%D9%86-%D9%85%D8%B4%D9%87%D8%AF-%D8%A8%DB%8C%D9%86-%D8%A2%D9%85%D9%88%D8%B2%DA%AF%D8%A7%D8%B1-67-%D9%88-69.html\n",
      "https://www.melkeirani.com/home/JIhp5e0f/228715/%D9%81%D8%B1%D9%88%D8%B4-%D8%A2%D9%BE%D8%A7%D8%B1%D8%AA%D9%85%D8%A7%D9%86-%D9%85%D8%B4%D9%87%D8%AF-%DB%8C%D9%88%D8%B3%D9%81%DB%8C%D9%87-9-9.html\n",
      "https://www.melkeirani.com/home/PhlKafc1/228716/%D9%81%D8%B1%D9%88%D8%B4-%D8%A2%D9%BE%D8%A7%D8%B1%D8%AA%D9%85%D8%A7%D9%86-%D9%85%D8%B4%D9%87%D8%AF-%D8%B4%D8%A7%D9%87%D8%AF-83.html\n",
      "https://www.melkeirani.com/home/kVVlf0bd/228717/%D9%81%D8%B1%D9%88%D8%B4-%D8%A2%D9%BE%D8%A7%D8%B1%D8%AA%D9%85%D8%A7%D9%86-%D9%85%D8%B4%D9%87%D8%AF-%D9%86%D8%A8%D8%B4-%D9%86%D8%A7%D9%85%D8%AC%D9%88-11.html\n",
      "https://www.melkeirani.com/home/ImAfda23/228718/%D9%81%D8%B1%D9%88%D8%B4-%D8%A2%D9%BE%D8%A7%D8%B1%D8%AA%D9%85%D8%A7%D9%86-%D9%85%D8%B4%D9%87%D8%AF-%D8%B9%D8%A8%D8%AF%D8%A7%D9%84%D9%85%D8%B7%D9%84%D8%A8-39-.html\n",
      "https://www.melkeirani.com/home/QZpM64bd/228719/%D9%81%D8%B1%D9%88%D8%B4-%D8%A2%D9%BE%D8%A7%D8%B1%D8%AA%D9%85%D8%A7%D9%86-%D9%85%D8%B4%D9%87%D8%AF-%D8%AD%D8%AC%D8%A7%D8%A8-54.html\n",
      "https://www.melkeirani.com/home/UYzU5385/228720/%D9%81%D8%B1%D9%88%D8%B4-%D8%A2%D9%BE%D8%A7%D8%B1%D8%AA%D9%85%D8%A7%D9%86-%D9%85%D8%B4%D9%87%D8%AF-%D8%A8%D9%88%D8%B3%D8%AA%D8%A7%D9%86-29-5.html\n",
      "https://www.melkeirani.com/home/tktaecb4/228721/%D9%81%D8%B1%D9%88%D8%B4-%D8%A2%D9%BE%D8%A7%D8%B1%D8%AA%D9%85%D8%A7%D9%86-%D9%85%D8%B4%D9%87%D8%AF-%D8%AF%D8%A7%D9%86%D8%B4%D8%AC%D9%88-8-.html\n",
      "https://www.melkeirani.com/home/nSKyee7e/228722/%D9%81%D8%B1%D9%88%D8%B4-%D8%A2%D9%BE%D8%A7%D8%B1%D8%AA%D9%85%D8%A7%D9%86-%D9%85%D8%B4%D9%87%D8%AF-%D8%B2%DB%8C%D8%AA%D9%88%D9%86-11.html\n",
      "https://www.melkeirani.com/home/xyCEeb41/228723/%D9%81%D8%B1%D9%88%D8%B4-%D8%A2%D9%BE%D8%A7%D8%B1%D8%AA%D9%85%D8%A7%D9%86-%D9%85%D8%B4%D9%87%D8%AF-%D9%86%D9%85%D8%A7%D8%B2-27-.html\n",
      "https://www.melkeirani.com/home/JyCz05cd/228724/%D9%81%D8%B1%D9%88%D8%B4-%D8%A2%D9%BE%D8%A7%D8%B1%D8%AA%D9%85%D8%A7%D9%86-%D9%85%D8%B4%D9%87%D8%AF-%DA%AF%D9%84%D8%A8%D9%87%D8%A7%D8%B1---%D9%85%D9%87%D8%B1%DA%AF%D8%A7%D9%86-1.html\n",
      "https://www.melkeirani.com/home/FYYs6df2/228725/%D9%81%D8%B1%D9%88%D8%B4-%D8%A2%D9%BE%D8%A7%D8%B1%D8%AA%D9%85%D8%A7%D9%86-%D9%85%D8%B4%D9%87%D8%AF-%D8%B5%DB%8C%D8%A7%D8%AF-46.html\n",
      "https://www.melkeirani.com/home/kICh2126/228726/%D9%81%D8%B1%D9%88%D8%B4-%D8%A2%D9%BE%D8%A7%D8%B1%D8%AA%D9%85%D8%A7%D9%86-%D9%85%D8%B4%D9%87%D8%AF-%D9%85%D8%B9%D9%84%D9%85-16-.html\n",
      "https://www.melkeirani.com/home/qzvn8af7/228734/%D9%81%D8%B1%D9%88%D8%B4-%D8%A2%D9%BE%D8%A7%D8%B1%D8%AA%D9%85%D8%A7%D9%86-%D9%85%D8%B4%D9%87%D8%AF-%D8%A7%D9%82%D8%A8%D8%A7%D9%84-19.html\n",
      "https://www.melkeirani.com/home/rMpA9612/228735/%D9%81%D8%B1%D9%88%D8%B4-%D8%A2%D9%BE%D8%A7%D8%B1%D8%AA%D9%85%D8%A7%D9%86-%D9%85%D8%B4%D9%87%D8%AF-%D9%82%D8%A7%D9%86%D8%B9-9-.html\n",
      "https://www.melkeirani.com/home/dHec62ac/228736/%D9%81%D8%B1%D9%88%D8%B4-%D8%A2%D9%BE%D8%A7%D8%B1%D8%AA%D9%85%D8%A7%D9%86-%D9%85%D8%B4%D9%87%D8%AF-%D8%A2%D8%B2%D8%A7%D8%AF%D9%87---%D8%B1%D8%A7%D8%B3%D8%AA%D8%A7%D9%86-1-.html\n",
      "https://www.melkeirani.com/home/xVSw4bd4/228737/%D9%81%D8%B1%D9%88%D8%B4-%D8%A2%D9%BE%D8%A7%D8%B1%D8%AA%D9%85%D8%A7%D9%86-%D9%85%D8%B4%D9%87%D8%AF-%D9%85%D9%88%D8%B3%D9%88%DB%8C-%D9%82%D9%88%DA%86%D8%A7%D9%86%DB%8C-4.html\n",
      "https://www.melkeirani.com/home/VprIb5f9/228738/%D9%81%D8%B1%D9%88%D8%B4-%D8%A2%D9%BE%D8%A7%D8%B1%D8%AA%D9%85%D8%A7%D9%86-%D9%85%D8%B4%D9%87%D8%AF-%DA%A9%D9%88%D8%AB%D8%B1%D8%B4%D9%85%D8%A7%D9%84%DB%8C-32-2.html\n",
      "https://www.melkeirani.com/home/yZuy3d4e/228739/%D9%81%D8%B1%D9%88%D8%B4-%D8%A2%D9%BE%D8%A7%D8%B1%D8%AA%D9%85%D8%A7%D9%86-%D9%85%D8%B4%D9%87%D8%AF-%D9%85%DB%8C%D8%AB%D8%A7%D9%82-6.html\n",
      "https://www.melkeirani.com/home/viwH7ac5/228740/%D9%81%D8%B1%D9%88%D8%B4-%D8%A2%D9%BE%D8%A7%D8%B1%D8%AA%D9%85%D8%A7%D9%86-%D9%85%D8%B4%D9%87%D8%AF-%D8%B4%D8%B1%DB%8C%D8%B9%D8%AA%DB%8C-73.html\n",
      "https://www.melkeirani.com/home/AXti05f6/228741/%D9%81%D8%B1%D9%88%D8%B4-%D8%A2%D9%BE%D8%A7%D8%B1%D8%AA%D9%85%D8%A7%D9%86-%D9%85%D8%B4%D9%87%D8%AF-%D8%A7%D9%86%D8%AF%DB%8C%D8%B4%D9%87-2.html\n",
      "https://www.melkeirani.com/home/PIiZ179a/228742/%D9%81%D8%B1%D9%88%D8%B4-%D8%A2%D9%BE%D8%A7%D8%B1%D8%AA%D9%85%D8%A7%D9%86-%D9%85%D8%B4%D9%87%D8%AF-%D8%B1%D8%AD%D9%85%D8%A7%D9%86%DB%8C%D9%87-22.html\n",
      "https://www.melkeirani.com/home/USQr27ff/228743/%D9%81%D8%B1%D9%88%D8%B4-%D8%A2%D9%BE%D8%A7%D8%B1%D8%AA%D9%85%D8%A7%D9%86-%D9%85%D8%B4%D9%87%D8%AF-%D9%81%D9%84%D8%A7%D8%AD%DB%8C-12-8-.html\n",
      "https://www.melkeirani.com/home/chqa955b/228744/%D9%81%D8%B1%D9%88%D8%B4-%D8%A2%D9%BE%D8%A7%D8%B1%D8%AA%D9%85%D8%A7%D9%86-%D9%85%D8%B4%D9%87%D8%AF-%D8%AA%D9%82%D8%A7%D8%B7%D8%B9-%D8%A7%D8%AF%DB%8C%D8%A8-%D9%88-%D8%A7%D9%86%D8%AF%DB%8C%D8%B4%D9%87-.html\n",
      "https://www.melkeirani.com/home/uDAd8b70/228745/%D9%81%D8%B1%D9%88%D8%B4-%D8%A2%D9%BE%D8%A7%D8%B1%D8%AA%D9%85%D8%A7%D9%86-%D9%85%D8%B4%D9%87%D8%AF-%D8%A2%D9%85%D9%88%D8%B2%DA%AF%D8%A7%D8%B1-37-.html\n",
      "https://www.melkeirani.com/home/mytt74a9/228746/%D9%81%D8%B1%D9%88%D8%B4-%D8%A2%D9%BE%D8%A7%D8%B1%D8%AA%D9%85%D8%A7%D9%86-%D9%85%D8%B4%D9%87%D8%AF-%D8%B9%D8%A8%D8%AF%D8%A7%D9%84%D9%85%D8%B7%D9%84%D8%A8-30.html\n",
      "https://www.melkeirani.com/home/mPtL12d9/228747/%D9%81%D8%B1%D9%88%D8%B4-%D8%A2%D9%BE%D8%A7%D8%B1%D8%AA%D9%85%D8%A7%D9%86-%D9%85%D8%B4%D9%87%D8%AF-%D9%81%D8%B1%D8%A7%D9%85%D8%B1%D8%B2-48.html\n",
      "https://www.melkeirani.com/home/yeDn501c/228748/%D9%81%D8%B1%D9%88%D8%B4-%D8%A2%D9%BE%D8%A7%D8%B1%D8%AA%D9%85%D8%A7%D9%86-%D9%85%D8%B4%D9%87%D8%AF-%D9%87%D8%AF%D8%A7%DB%8C%D8%AA-12-5.html\n",
      "https://www.melkeirani.com/home/Gtgl66f6/228749/%D9%81%D8%B1%D9%88%D8%B4-%D8%A2%D9%BE%D8%A7%D8%B1%D8%AA%D9%85%D8%A7%D9%86-%D9%85%D8%B4%D9%87%D8%AF-%D9%85%D8%B7%D9%87%D8%B1%DB%8C-%D8%B4%D9%85%D8%A7%D9%84%DB%8C-14.html\n",
      "https://www.melkeirani.com/home/cQwqdf5a/228750/%D9%81%D8%B1%D9%88%D8%B4-%D8%A2%D9%BE%D8%A7%D8%B1%D8%AA%D9%85%D8%A7%D9%86-%D9%85%D8%B4%D9%87%D8%AF-%D9%84%D8%A7%D8%AF%D9%86-23.html\n",
      "https://www.melkeirani.com/home/VEsNb68c/228751/%D9%81%D8%B1%D9%88%D8%B4-%D8%A2%D9%BE%D8%A7%D8%B1%D8%AA%D9%85%D8%A7%D9%86-%D9%85%D8%B4%D9%87%D8%AF-%D9%86%D9%85%D8%A7%D8%B2-29.html\n",
      "https://www.melkeirani.com/home/UaLB3a51/228752/%D9%81%D8%B1%D9%88%D8%B4-%D8%A2%D9%BE%D8%A7%D8%B1%D8%AA%D9%85%D8%A7%D9%86-%D9%85%D8%B4%D9%87%D8%AF-%D8%A7%D9%86%D8%AF%DB%8C%D8%B4%D9%87-78.html\n",
      "https://www.melkeirani.com/home/pldh2763/228753/%D9%81%D8%B1%D9%88%D8%B4-%D8%A2%D9%BE%D8%A7%D8%B1%D8%AA%D9%85%D8%A7%D9%86-%D9%85%D8%B4%D9%87%D8%AF-%DA%AF%D9%84%D8%A8%D9%87%D8%A7%D8%B1---%D8%A7%D9%85%D8%A7%D9%85-%D8%AE%D9%85%DB%8C%D9%86%DB%8C.html\n",
      "https://www.melkeirani.com/home/DvOW7c78/228754/%D9%81%D8%B1%D9%88%D8%B4-%D8%A2%D9%BE%D8%A7%D8%B1%D8%AA%D9%85%D8%A7%D9%86-%D9%85%D8%B4%D9%87%D8%AF-%D8%A2%D8%A8%DA%A9%D9%88%D9%87-13-.html\n",
      "https://www.melkeirani.com/home/xiOs4f04/228755/%D9%81%D8%B1%D9%88%D8%B4-%D8%A2%D9%BE%D8%A7%D8%B1%D8%AA%D9%85%D8%A7%D9%86-%D9%85%D8%B4%D9%87%D8%AF-%D8%A7%D9%85%D8%A7%D9%85%D8%AA-33-.html\n",
      "https://www.melkeirani.com/home/sVbQ5b20/228756/%D9%81%D8%B1%D9%88%D8%B4-%D8%A2%D9%BE%D8%A7%D8%B1%D8%AA%D9%85%D8%A7%D9%86-%D9%85%D8%B4%D9%87%D8%AF-%D8%B9%D8%A8%D8%AF%D8%A7%D9%84%D9%85%D8%B7%D9%84%D8%A8-7-.html\n",
      "https://www.melkeirani.com/home/jFNM5548/228757/%D9%81%D8%B1%D9%88%D8%B4-%D8%A2%D9%BE%D8%A7%D8%B1%D8%AA%D9%85%D8%A7%D9%86-%D9%85%D8%B4%D9%87%D8%AF-%DA%A9%D9%84%D8%A7%D9%87%D8%AF%D9%88%D8%B2-29.html\n",
      "https://www.melkeirani.com/home/oTst8c1e/228758/%D9%81%D8%B1%D9%88%D8%B4-%D8%A2%D9%BE%D8%A7%D8%B1%D8%AA%D9%85%D8%A7%D9%86-%D9%85%D8%B4%D9%87%D8%AF-%D8%AC%D8%A7%D9%86%D8%A8%D8%A7%D8%B2-9.html\n",
      "https://www.melkeirani.com/home/hVGy6d1d/228759/%D9%81%D8%B1%D9%88%D8%B4-%D8%A2%D9%BE%D8%A7%D8%B1%D8%AA%D9%85%D8%A7%D9%86-%D9%85%D8%B4%D9%87%D8%AF-%D8%A7%D9%86%D8%AA%D9%87%D8%A7%DB%8C-%D8%AF%D9%84%D8%A7%D9%88%D8%B1%D8%A7%D9%86-.html\n",
      "https://www.melkeirani.com/home/znAo83a4/228760/%D9%81%D8%B1%D9%88%D8%B4-%D8%A2%D9%BE%D8%A7%D8%B1%D8%AA%D9%85%D8%A7%D9%86-%D9%85%D8%B4%D9%87%D8%AF-%D9%85%D8%AC%DB%8C%D8%AF%DB%8C%D9%87-23-.html\n",
      "https://www.melkeirani.com/home/qArL99d8/228761/%D9%81%D8%B1%D9%88%D8%B4-%D8%A2%D9%BE%D8%A7%D8%B1%D8%AA%D9%85%D8%A7%D9%86-%D9%85%D8%B4%D9%87%D8%AF-%D8%B3%D8%B1%D8%A7%D9%81%D8%B1%D8%A7%D8%B2%D8%A7%D9%86-13.html\n"
     ]
    }
   ],
   "source": [
    "cards = driver.find_elements(By.CSS_SELECTOR, '.col-lg-4.col-xl-3.col-md-12.mb-4')\n",
    "print(len(cards))\n",
    "# Loop through each card and get the href from the <a> tag inside it\n",
    "for card in cards:\n",
    "    # Find the <a> tag inside each card\n",
    "    link_element = card.find_element(By.TAG_NAME, 'a')\n",
    "    \n",
    "    # Get the href attribute\n",
    "    href = link_element.get_attribute('href')\n",
    "    \n",
    "    # Print or store the href\n",
    "    print(href)"
   ]
  },
  {
   "cell_type": "code",
   "execution_count": null,
   "metadata": {},
   "outputs": [],
   "source": []
  }
 ],
 "metadata": {
  "kernelspec": {
   "display_name": "Python 3",
   "language": "python",
   "name": "python3"
  },
  "language_info": {
   "codemirror_mode": {
    "name": "ipython",
    "version": 3
   },
   "file_extension": ".py",
   "mimetype": "text/x-python",
   "name": "python",
   "nbconvert_exporter": "python",
   "pygments_lexer": "ipython3",
   "version": "3.11.8"
  }
 },
 "nbformat": 4,
 "nbformat_minor": 2
}
